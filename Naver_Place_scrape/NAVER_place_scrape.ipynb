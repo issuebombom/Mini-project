{
 "cells": [
  {
   "cell_type": "markdown",
   "id": "d4926b74",
   "metadata": {},
   "source": [
    "# 네이버 지도 검색 결과 스크랩"
   ]
  },
  {
   "cell_type": "markdown",
   "id": "80f9f1de",
   "metadata": {},
   "source": [
    "![naver_map](https://lh3.google.com/u/0/d/16kx-lhpaCHA82IbspowO1ygQhZAuOk7C=w3360-h1878-iv1)\n"
   ]
  },
  {
   "cell_type": "markdown",
   "id": "2d58bec1",
   "metadata": {},
   "source": [
    "### 가게 정보 및 img 스크랩\n",
    "\n",
    "[상황 설명]  \n",
    ">직장인 A 씨는 웨딩업체 사진 작가입니다.  \n",
    "서울의 웨딩사진전문 업체에 대한 정보와 각 업체에서 올린 사진을 모으고 싶은데요.  \n",
    "네이버 지도에서 특정 지역 타겟팅 후 주변에 위치한 웨딩사진전문 업체를 검색하여  \n",
    "업체에 대한 정보와 네이버 플레이스에 등록된 사진을 모으려고 합니다.\n",
    "\n",
    "- 당연한 이야기지만 스크랩은 언제든지 막힐 수 있습니다."
   ]
  },
  {
   "cell_type": "code",
   "execution_count": null,
   "id": "4beedf58",
   "metadata": {
    "ExecuteTime": {
     "end_time": "2022-04-29T10:33:33.445582Z",
     "start_time": "2022-04-29T10:33:30.656511Z"
    }
   },
   "outputs": [],
   "source": [
    "import numpy as np\n",
    "import pandas as pd\n",
    "import urllib.request\n",
    "import requests\n",
    "import os\n",
    "import json\n",
    "import time"
   ]
  },
  {
   "cell_type": "markdown",
   "id": "eb5790e9",
   "metadata": {},
   "source": [
    "> url은 직접 네이버 지도 접속 후 특정 지역을 타겟팅하여 검색한 결과를 가져옵니다."
   ]
  },
  {
   "cell_type": "code",
   "execution_count": null,
   "id": "24fcbf5a",
   "metadata": {
    "ExecuteTime": {
     "end_time": "2022-04-29T10:41:00.652728Z",
     "start_time": "2022-04-29T10:41:00.086513Z"
    }
   },
   "outputs": [],
   "source": [
    "# 검색명은 변경 가능\n",
    "url = f\"https://map.naver.com/v5/api/search?caller=pcweb&query=웨딩사진전문&type=all&searchCoord=126.75292692474181;37.539870164829594&page=3&displayCount=100&isPlaceRecommendationReplace=true&lang=ko\"\n",
    "res = requests.get(url)\n",
    "map_data = json.loads(res.text)"
   ]
  },
  {
   "cell_type": "code",
   "execution_count": null,
   "id": "ec08a19a",
   "metadata": {
    "ExecuteTime": {
     "end_time": "2022-04-29T10:43:37.279663Z",
     "start_time": "2022-04-29T10:43:18.968372Z"
    },
    "scrolled": true
   },
   "outputs": [],
   "source": [
    "# time.sleep 시간을 랜덤추출해서 휴머나이징\n",
    "def timeRandomValues():\n",
    "    time_array = np.linspace(1, 3, 50)\n",
    "    return np.random.choice(time_array)\n",
    "\n",
    "\n",
    "search_keyword = \"웨딩사진전문\"\n",
    "crowl_count = 1\n",
    "result = []\n",
    "\n",
    "# 스크랩 가능한 업체는 총 120곳입니다.(최대)\n",
    "# 1페이지에 1~100인덱스가 출력되고 2페이지로 넘어가면 11~110이 출력되는 방식입니다.\n",
    "# 그래서 1페이지 전체 스크랩 + 3페이지의 뒤에서부터 20인덱스까지 뽑아야 중복을 피합니다.\n",
    "\n",
    "# 가게 고유번호 수집\n",
    "for page in [1, 3]:\n",
    "\n",
    "    url = f\"https://map.naver.com/v5/api/search?caller=pcweb&query={search_keyword}&type=all&searchCoord=126.75292692474181;37.539870164829594&page={page}&displayCount=100&isPlaceRecommendationReplace=true&lang=ko\"\n",
    "    res = requests.get(url)\n",
    "    map_data = json.loads(res.text)\n",
    "    \n",
    "    # 고유번호 수집\n",
    "    if page == 3:\n",
    "        shop_id_list = [info['id'] for info in map_data['result']['place']['list'][-20:]]\n",
    "    else:\n",
    "        shop_id_list = [info['id'] for info in map_data['result']['place']['list']]\n",
    "        \n",
    "\n",
    "    for shop_id in shop_id_list:\n",
    "\n",
    "        url = f\"https://map.naver.com/v5/api/sites/summary/{shop_id}?lang=ko\"\n",
    "        res = requests.get(url)\n",
    "        shop_json = json.loads(res.text)\n",
    "\n",
    "        name = shop_json['name']\n",
    "        blogreview_count = shop_json['reviewCount']\n",
    "        phone = shop_json['phone']\n",
    "        address = shop_json['fullRoadAddress']\n",
    "        if len(shop_json['urlList']) != 0:\n",
    "            homepage = shop_json['urlList'][0]['url']\n",
    "        else:\n",
    "            homepage = \"\"\n",
    "        img_count = len(shop_json['images'])\n",
    "\n",
    "        result.append([name, blogreview_count, phone, address, homepage, img_count])\n",
    "        \n",
    "    \n",
    "        if img_count == 0:\n",
    "            continue\n",
    "\n",
    "        else:\n",
    "            # 사진 저장 폴더 만들기\n",
    "            img_dir = f\"./img/{name}\"\n",
    "            os.makedirs(img_dir)\n",
    "\n",
    "            for i, img in enumerate(shop_json['images']):\n",
    "                urllib.request.urlretrieve(img['url'], img_dir + f\"/{img['modDate']}_{i}.jpg\")\n",
    "        \n",
    "        print(f\"{crowl_count}번째 업체 완료\")\n",
    "        crowl_count += 1\n",
    "        time.sleep(timeRandomValues())\n",
    "\n",
    "columns = ['이름', '블로그 리뷰수', '연락처', '주소', '홈페이지', '등록사진 수']\n",
    "df = pd.DataFrame(result, columns=columns)\n",
    "df.to_csv(\"result.csv\", encoding=\"utf-8-sig\", index=False)"
   ]
  },
  {
   "cell_type": "code",
   "execution_count": null,
   "id": "7b29193b",
   "metadata": {},
   "outputs": [],
   "source": [
    "df"
   ]
  }
 ],
 "metadata": {
  "kernelspec": {
   "display_name": "Python 3 (ipykernel)",
   "language": "python",
   "name": "python3"
  },
  "language_info": {
   "codemirror_mode": {
    "name": "ipython",
    "version": 3
   },
   "file_extension": ".py",
   "mimetype": "text/x-python",
   "name": "python",
   "nbconvert_exporter": "python",
   "pygments_lexer": "ipython3",
   "version": "3.8.11"
  },
  "toc": {
   "base_numbering": 1,
   "nav_menu": {},
   "number_sections": true,
   "sideBar": true,
   "skip_h1_title": false,
   "title_cell": "Table of Contents",
   "title_sidebar": "Contents",
   "toc_cell": false,
   "toc_position": {},
   "toc_section_display": true,
   "toc_window_display": false
  }
 },
 "nbformat": 4,
 "nbformat_minor": 5
}
